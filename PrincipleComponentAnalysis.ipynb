{
 "cells": [
  {
   "cell_type": "code",
   "execution_count": 1,
   "metadata": {},
   "outputs": [],
   "source": [
    "## James Schallert\n",
    "## Machine Learning\n",
    "## Homework 4"
   ]
  },
  {
   "cell_type": "code",
   "execution_count": 2,
   "metadata": {},
   "outputs": [],
   "source": [
    "import numpy as np\n",
    "import pandas as pd"
   ]
  },
  {
   "cell_type": "code",
   "execution_count": 3,
   "metadata": {},
   "outputs": [],
   "source": [
    "X = np.array([\n",
    "    [-2, 1, 4, 6, 5, 3, 6, 2],\n",
    "    [9,3,2,-1,-4,-2,-4,-5],\n",
    "    [0,7,-5,3,2,-3,4,6]\n",
    "    ])\n"
   ]
  },
  {
   "cell_type": "code",
   "execution_count": 4,
   "metadata": {},
   "outputs": [],
   "source": [
    "## Calculate the component means\n",
    "means = X.mean(axis=1)"
   ]
  },
  {
   "cell_type": "code",
   "execution_count": 5,
   "metadata": {},
   "outputs": [],
   "source": [
    "## Center the values of the matrix by subtracting the component mean from each component.\n",
    "X = np.transpose(np.transpose(X)-means)"
   ]
  },
  {
   "cell_type": "code",
   "execution_count": 6,
   "metadata": {},
   "outputs": [
    {
     "data": {
      "text/plain": [
       "array([[-5.125, -2.125,  0.875,  2.875,  1.875, -0.125,  2.875, -1.125],\n",
       "       [ 9.25 ,  3.25 ,  2.25 , -0.75 , -3.75 , -1.75 , -3.75 , -4.75 ],\n",
       "       [-1.75 ,  5.25 , -6.75 ,  1.25 ,  0.25 , -4.75 ,  2.25 ,  4.25 ]])"
      ]
     },
     "execution_count": 6,
     "metadata": {},
     "output_type": "execute_result"
    }
   ],
   "source": [
    "X"
   ]
  },
  {
   "cell_type": "code",
   "execution_count": 7,
   "metadata": {},
   "outputs": [],
   "source": [
    "## Find the covariance matrix by XX^T\n",
    "C = np.matmul(X,np.transpose(X))"
   ]
  },
  {
   "cell_type": "code",
   "execution_count": 8,
   "metadata": {},
   "outputs": [],
   "source": [
    "##Calculate the eiganvalues and eiganvectors of the covariance matrix.\n",
    "eiganValues = np.linalg.eig(C)"
   ]
  },
  {
   "cell_type": "code",
   "execution_count": 9,
   "metadata": {},
   "outputs": [],
   "source": [
    "##Find the largest eiganvalue and its corresponding eiganvector\n",
    "biggestEiganValue = np.max(eiganValues[0])\n",
    "\n",
    "biggestEiganIndex = np.where(eiganValues[0]==biggestEiganValue)\n",
    "\n",
    "biggestEiganVector = eiganValues[1][:,biggestEiganIndex]"
   ]
  },
  {
   "cell_type": "code",
   "execution_count": 10,
   "metadata": {},
   "outputs": [
    {
     "name": "stdout",
     "output_type": "stream",
     "text": [
      "[[[ 0.37379192]]\n",
      "\n",
      " [[-0.84371817]]\n",
      "\n",
      " [[ 0.38525219]]]\n"
     ]
    }
   ],
   "source": [
    "print(biggestEiganVector)"
   ]
  },
  {
   "cell_type": "code",
   "execution_count": null,
   "metadata": {},
   "outputs": [],
   "source": []
  },
  {
   "cell_type": "code",
   "execution_count": null,
   "metadata": {},
   "outputs": [],
   "source": []
  },
  {
   "cell_type": "code",
   "execution_count": 11,
   "metadata": {},
   "outputs": [],
   "source": [
    "## restoring the original X\n",
    "originalX = np.array([\n",
    "    [-2, 1, 4, 6, 5, 3, 6, 2],\n",
    "    [9,3,2,-1,-4,-2,-4,-5],\n",
    "    [0,7,-5,3,2,-3,4,6]\n",
    "    ])"
   ]
  },
  {
   "cell_type": "code",
   "execution_count": 12,
   "metadata": {},
   "outputs": [],
   "source": [
    "##First principal component is found by multiplying the original data by the unit vector of the largest eiganvalue.\n",
    "firstPrincipalComponent = np.matmul(np.transpose(biggestEiganVector[:]),originalX)"
   ]
  },
  {
   "cell_type": "code",
   "execution_count": 13,
   "metadata": {},
   "outputs": [
    {
     "name": "stdout",
     "output_type": "stream",
     "text": [
      "[[[-8.34104738  0.53940272 -2.11852961  4.24222625  6.01433666\n",
      "    1.65305553  7.15863295  7.27768782]]]\n"
     ]
    }
   ],
   "source": [
    "##First principal component as a 1 dimensional matrix\n",
    "print(firstPrincipalComponent)"
   ]
  },
  {
   "cell_type": "code",
   "execution_count": 14,
   "metadata": {},
   "outputs": [
    {
     "data": {
      "text/plain": [
       "array([[[-3.1178161 ,  0.20162438, -0.79188925,  1.58570989,\n",
       "          2.24811044,  0.6178988 ,  2.67583914,  2.72034089]],\n",
       "\n",
       "       [[ 7.03749325, -0.45510388,  1.78744193, -3.57924337,\n",
       "         -5.07440513, -1.39471299, -6.0398687 , -6.14031746]],\n",
       "\n",
       "       [[-3.21340676,  0.20780608, -0.81616817,  1.63432694,\n",
       "          2.31703636,  0.63684326,  2.75787901,  2.80374516]]])"
      ]
     },
     "execution_count": 14,
     "metadata": {},
     "output_type": "execute_result"
    }
   ],
   "source": [
    "##First principal component as a 3dimensional matrix\n",
    "firstPrincipalComponent3D = np.matmul(biggestEiganVector[:],firstPrincipalComponent)\n",
    "firstPrincipalComponent3D"
   ]
  },
  {
   "cell_type": "code",
   "execution_count": 15,
   "metadata": {},
   "outputs": [],
   "source": [
    "leftovers = originalX - firstPrincipalComponent3D[0,:]"
   ]
  },
  {
   "cell_type": "code",
   "execution_count": 16,
   "metadata": {},
   "outputs": [
    {
     "data": {
      "text/plain": [
       "array([[ 1.1178161 ,  0.79837562,  4.79188925,  4.41429011,  2.75188956,\n",
       "         2.3821012 ,  3.32416086, -0.72034089],\n",
       "       [12.1178161 ,  2.79837562,  2.79188925, -2.58570989, -6.24811044,\n",
       "        -2.6178988 , -6.67583914, -7.72034089],\n",
       "       [ 3.1178161 ,  6.79837562, -4.20811075,  1.41429011, -0.24811044,\n",
       "        -3.6178988 ,  1.32416086,  3.27965911]])"
      ]
     },
     "execution_count": 16,
     "metadata": {},
     "output_type": "execute_result"
    }
   ],
   "source": [
    "leftovers"
   ]
  },
  {
   "cell_type": "code",
   "execution_count": 17,
   "metadata": {},
   "outputs": [],
   "source": [
    "def mypca(X,k):\n",
    "    i=0\n",
    "    leftovers = X\n",
    "    principalComponents3D = []\n",
    "    principalComponents = []\n",
    "    PrincipalValues = []\n",
    "    eiganVectors = []\n",
    "    while i<k:\n",
    "        means = leftovers.mean(axis=1)\n",
    "        centeredLeftovers = np.transpose(np.transpose(leftovers)-means)\n",
    "\n",
    "        C = np.matmul(centeredLeftovers,np.transpose(centeredLeftovers))\n",
    "\n",
    "        eiganValues = np.linalg.eig(C)\n",
    "        \n",
    "\n",
    "        biggestEiganValue = np.max(eiganValues[0])\n",
    "        PrincipalValues.append(biggestEiganValue)\n",
    "        \n",
    "        biggestEiganIndex = np.where(eiganValues[0]==biggestEiganValue)\n",
    "\n",
    "        biggestEiganVector = eiganValues[1][:,biggestEiganIndex]\n",
    "        eiganVectors.append(biggestEiganVector)\n",
    "        \n",
    "        nextPrincipalComponent = np.matmul(np.transpose(leftovers),biggestEiganVector[:,0])\n",
    "        principalComponents.append(nextPrincipalComponent)\n",
    "        \n",
    "        nextPrincipalComponent3D = np.matmul(nextPrincipalComponent,biggestEiganVector)\n",
    "\n",
    "        leftovers = leftovers - nextPrincipalComponent3D[:,:,0]\n",
    "\n",
    "        principalComponents3D.append(np.transpose(nextPrincipalComponent3D))\n",
    "\n",
    "        i+=1\n",
    "    \n",
    "  \n",
    "    \n",
    "    kDimensionalRepresentation = np.matmul(np.transpose(X),np.transpose(np.take(np.take(eiganVectors,0,axis=2),0,axis=2)))\n",
    "    \n",
    "    print('\\n\\nOptimal '+ str(k) + ' dimensional representation:')\n",
    "    print(np.transpose(kDimensionalRepresentation))\n",
    "    print('\\nTop '+ str(k) + ' Principal Values:')\n",
    "    print(np.transpose(PrincipalValues))\n",
    "    print('\\nTop '+ str(k) + ' Principal Components:')\n",
    "    print(np.transpose(principalComponents))\n",
    "    \n",
    "    \n",
    "    \n",
    "    return [kDimensionalRepresentation,principalComponents, PrincipalValues]\n",
    "    "
   ]
  },
  {
   "cell_type": "code",
   "execution_count": 18,
   "metadata": {},
   "outputs": [
    {
     "name": "stdout",
     "output_type": "stream",
     "text": [
      "\n",
      "\n",
      "Optimal 1 dimensional representation:\n",
      "[[-8.34104738  0.53940272 -2.11852961  4.24222625  6.01433666  1.65305553\n",
      "   7.15863295  7.27768782]]\n",
      "\n",
      "Top 1 Principal Values:\n",
      "[201.73856252]\n",
      "\n",
      "Top 1 Principal Components:\n",
      "[[[-8.34104738]\n",
      "  [ 0.53940272]\n",
      "  [-2.11852961]\n",
      "  [ 4.24222625]\n",
      "  [ 6.01433666]\n",
      "  [ 1.65305553]\n",
      "  [ 7.15863295]\n",
      "  [ 7.27768782]]]\n",
      "\n",
      "\n",
      "Optimal 2 dimensional representation:\n",
      "[[-8.34104738  0.53940272 -2.11852961  4.24222625  6.01433666  1.65305553\n",
      "   7.15863295  7.27768782]\n",
      " [ 3.07960195  6.83029175 -5.2912228   0.5006905  -0.89099856 -4.23361802\n",
      "   0.59710178  3.43903074]]\n",
      "\n",
      "Top 2 Principal Values:\n",
      "[201.73856252 113.25442962]\n",
      "\n",
      "Top 2 Principal Components:\n",
      "[[[-8.34104738  3.07960195]\n",
      "  [ 0.53940272  6.83029175]\n",
      "  [-2.11852961 -5.2912228 ]\n",
      "  [ 4.24222625  0.5006905 ]\n",
      "  [ 6.01433666 -0.89099856]\n",
      "  [ 1.65305553 -4.23361802]\n",
      "  [ 7.15863295  0.59710178]\n",
      "  [ 7.27768782  3.43903074]]]\n",
      "\n",
      "\n",
      "Optimal 3 dimensional representation:\n",
      "[[-8.34104738  0.53940272 -2.11852961  4.24222625  6.01433666  1.65305553\n",
      "   7.15863295  7.27768782]\n",
      " [ 3.07960195  6.83029175 -5.2912228   0.5006905  -0.89099856 -4.23361802\n",
      "   0.59710178  3.43903074]\n",
      " [ 2.43782289  3.47219806  3.53762541  5.26809505  2.83440932  1.15926093\n",
      "   4.04937572  0.45642906]]\n",
      "\n",
      "Top 3 Principal Values:\n",
      "[201.73856252 113.25442962  16.88200786]\n",
      "\n",
      "Top 3 Principal Components:\n",
      "[[[-8.34104738  3.07960195  2.43782289]\n",
      "  [ 0.53940272  6.83029175  3.47219806]\n",
      "  [-2.11852961 -5.2912228   3.53762541]\n",
      "  [ 4.24222625  0.5006905   5.26809505]\n",
      "  [ 6.01433666 -0.89099856  2.83440932]\n",
      "  [ 1.65305553 -4.23361802  1.15926093]\n",
      "  [ 7.15863295  0.59710178  4.04937572]\n",
      "  [ 7.27768782  3.43903074  0.45642906]]]\n"
     ]
    }
   ],
   "source": [
    "X = np.array([\n",
    "    [-2, 1, 4, 6, 5, 3, 6, 2],\n",
    "    [9,3,2,-1,-4,-2,-4,-5],\n",
    "    [0,7,-5,3,2,-3,4,6]\n",
    "    ])\n",
    "\n",
    "for k in range(1,4):\n",
    "    mypca(X,k)\n"
   ]
  },
  {
   "cell_type": "code",
   "execution_count": null,
   "metadata": {},
   "outputs": [],
   "source": []
  },
  {
   "cell_type": "code",
   "execution_count": null,
   "metadata": {},
   "outputs": [],
   "source": []
  },
  {
   "cell_type": "code",
   "execution_count": null,
   "metadata": {},
   "outputs": [],
   "source": []
  }
 ],
 "metadata": {
  "kernelspec": {
   "display_name": "Python 3",
   "language": "python",
   "name": "python3"
  },
  "language_info": {
   "codemirror_mode": {
    "name": "ipython",
    "version": 3
   },
   "file_extension": ".py",
   "mimetype": "text/x-python",
   "name": "python",
   "nbconvert_exporter": "python",
   "pygments_lexer": "ipython3",
   "version": "3.6.5"
  }
 },
 "nbformat": 4,
 "nbformat_minor": 2
}
